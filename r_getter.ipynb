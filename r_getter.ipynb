{
  "nbformat": 4,
  "nbformat_minor": 0,
  "metadata": {
    "colab": {
      "name": "Untitled1.ipynb",
      "provenance": [],
      "authorship_tag": "ABX9TyNEDLA7pDXur8vpGPR0Oeq2",
      "include_colab_link": true
    },
    "kernelspec": {
      "name": "python3",
      "display_name": "Python 3"
    }
  },
  "cells": [
    {
      "cell_type": "markdown",
      "metadata": {
        "id": "view-in-github",
        "colab_type": "text"
      },
      "source": [
        "<a href=\"https://colab.research.google.com/github/reckoning-machines/sec_text_nlp/blob/master/r_getter.ipynb\" target=\"_parent\"><img src=\"https://colab.research.google.com/assets/colab-badge.svg\" alt=\"Open In Colab\"/></a>"
      ]
    },
    {
      "cell_type": "code",
      "metadata": {
        "id": "r_rxXBF-7IzY",
        "colab_type": "code",
        "colab": {
          "base_uri": "https://localhost:8080/",
          "height": 105
        },
        "outputId": "0835d60b-ef28-4168-de43-c1b6be9cfc8b"
      },
      "source": [
        "%load_ext rpy2.ipython"
      ],
      "execution_count": 1,
      "outputs": [
        {
          "output_type": "stream",
          "text": [
            "/usr/local/lib/python3.6/dist-packages/rpy2/robjects/pandas2ri.py:14: FutureWarning: pandas.core.index is deprecated and will be removed in a future version.  The public classes are available in the top-level namespace.\n",
            "  from pandas.core.index import Index as PandasIndex\n",
            "/usr/local/lib/python3.6/dist-packages/rpy2/robjects/pandas2ri.py:34: UserWarning: pandas >= 1.0 is not supported.\n",
            "  warnings.warn('pandas >= 1.0 is not supported.')\n"
          ],
          "name": "stderr"
        }
      ]
    },
    {
      "cell_type": "code",
      "metadata": {
        "id": "0KmqZIbl8nhG",
        "colab_type": "code",
        "colab": {
          "base_uri": "https://localhost:8080/",
          "height": 289
        },
        "outputId": "921ab655-9101-40ec-e8f7-cc1ceb5490c9"
      },
      "source": [
        "\n",
        "%%R\n",
        "devtools::install_github(\"mwaldstein/edgarWebR\")\n",
        "devtools::install_github(\"tidyverse/googlesheets4\")\n",
        "devtools::install_version(\"xml2\", version = \"1.2.2\", repos = \"http://cran.us.r-project.org\")\n",
        "#file creates a set of csv from ticker list which include metadata & text data.\n",
        "library(edgarWebR) #this is an up to date library with an active maintainer.\n",
        "library(xml2)\n",
        "library(knitr)\n",
        "library(dplyr)\n",
        "library(purrr)\n",
        "library(rvest)\n",
        "library(tidyr)\n",
        "library(readr)\n",
        "#library(log4r) TODO logging file.\n",
        "library(googlesheets4)\n",
        "gs4_deauth()\n",
        "#tickers list\n",
        "str_sheet <- \"1_xcDVKjR2jqE-w5LqxIWnrDYstpSrE5nFSSY0WXNOVE\"\n",
        "df_tickers <- read_sheet(str_sheet)\n"
      ],
      "execution_count": 23,
      "outputs": [
        {
          "output_type": "stream",
          "text": [
            "R[write to console]: Skipping install of 'edgarWebR' from a github remote, the SHA1 (e7fa70ea) has not changed since last install.\n",
            "  Use `force = TRUE` to force installation\n",
            "\n",
            "R[write to console]: Skipping install of 'googlesheets4' from a github remote, the SHA1 (edb84304) has not changed since last install.\n",
            "  Use `force = TRUE` to force installation\n",
            "\n",
            "R[write to console]: Downloading package from url: http://cran.us.r-project.org/src/contrib/Archive/xml2/xml2_1.2.2.tar.gz\n",
            "\n"
          ],
          "name": "stderr"
        },
        {
          "output_type": "stream",
          "text": [
            "\n"
          ],
          "name": "stdout"
        },
        {
          "output_type": "stream",
          "text": [
            "R[write to console]: Installing package into ‘/usr/local/lib/R/site-library’\n",
            "(as ‘lib’ is unspecified)\n",
            "\n",
            "R[write to console]: Reading from \"test_ticker_list\"\n",
            "\n",
            "R[write to console]: Range \"section_data\"\n",
            "\n"
          ],
          "name": "stderr"
        }
      ]
    },
    {
      "cell_type": "code",
      "metadata": {
        "id": "ZaZWVIxr_dmq",
        "colab_type": "code",
        "colab": {
          "base_uri": "https://localhost:8080/",
          "height": 153
        },
        "outputId": "b25819ec-51f9-4d97-b395-697f1c655afa"
      },
      "source": [
        "%%R\n",
        "company_filings(\"AXP\", type = \"10-\", count = 20)"
      ],
      "execution_count": 24,
      "outputs": [
        {
          "output_type": "stream",
          "text": [
            "R[write to console]: Error in xml2::url_absolute(res[[ref]], xml2::xml_url(doc)) : \n",
            "  Base URL must be length 1\n",
            "Calls: <Anonymous> ... company_filings -> map_xml -> ifelse -> <Anonymous>\n",
            "\n"
          ],
          "name": "stderr"
        },
        {
          "output_type": "stream",
          "text": [
            "\n",
            "Error in xml2::url_absolute(res[[ref]], xml2::xml_url(doc)) : \n",
            "  Base URL must be length 1\n",
            "Calls: <Anonymous> ... company_filings -> map_xml -> ifelse -> <Anonymous>\n"
          ],
          "name": "stdout"
        }
      ]
    },
    {
      "cell_type": "code",
      "metadata": {
        "id": "1UYcX52F7_pu",
        "colab_type": "code",
        "colab": {
          "base_uri": "https://localhost:8080/",
          "height": 170
        },
        "outputId": "8703947b-cce5-4120-d04c-2b36123181a7"
      },
      "source": [
        "%%R\n",
        "#file creates a set of csv from ticker list which include metadata & text data.\n",
        "df_tickers <- head(df_tickers,1)\n",
        "\n",
        "get_filings_links <-function(str_ticker) {\n",
        "  df_filings <- company_filings(str_ticker, type = \"10-\", count = 20)\n",
        "  df_filings <- df_filings[df_filings$type == \"10-K\" | df_filings$type == \"10-Q\", ]\n",
        "  df_filing_infos <- map_df(df_filings$href, filing_information)\n",
        "  df_filings <- bind_cols(df_filings, df_filing_infos)\n",
        "  return(head(as_tibble(df_filings),6))\n",
        "}\n",
        "\n",
        "get_section_text <- function(str_href, str_section, str_search) {\n",
        "  df_filing_documents <- filing_documents(str_href)\n",
        "  str_doc_href <- df_filing_documents[df_filing_documents$type == \"10-K\" | df_filing_documents$type == \"10-Q\",]$href\n",
        "  doc <- parse_filing(str_doc_href)\n",
        "\n",
        "  df_txt <- doc[grepl(str_section, doc$item.name, ignore.case = TRUE) & grepl(str_search, doc$item.name, ignore.case = TRUE), ] # only discussion for now\n",
        "  #we could do some text preprocessing here.\n",
        "\n",
        "  df_txt <- as_tibble(df_txt) %>%\n",
        "    mutate(section = str_search)\n",
        "\n",
        "  return(df_txt)\n",
        "}\n",
        "\n",
        "get_document_text <- function(str_ticker, force = FALSE) { #not using force yet\n",
        "  start_time <- Sys.time()\n",
        "  \n",
        "  print(str_ticker)\n",
        "  \n",
        "  str_write_name <- paste0(\"~/data/\",str_ticker,\"_sec_text\")\n",
        "\n",
        "  df_filings <- get_filings_links(str_ticker)\n",
        "\n",
        "  #print(df_filings)\n",
        "\n",
        "  df_data <- (df_filings) %>% \n",
        "    rowwise() %>%\n",
        "    mutate(nest_discussion = map(.x = href, str_section = 'item 2|item 7',str_search = 'discussion', .f = get_section_text)) %>%\n",
        "    mutate(nest_qualitative = map(.x = href, str_section = 'item 3|item 7a', str_search = 'qualitative', .f = get_section_text)) %>%\n",
        "    mutate(nest_controls = map(.x = href, str_section = 'item 4|item 9a',str_search = 'controls', .f = get_section_text)) %>%\n",
        "    mutate(nest_risk = map(.x = href, str_section = 'item 1',str_search = 'risk factors', .f = get_section_text)) %>%\n",
        "    ungroup() %>%\n",
        "    select(period_date,filing_date,type,form_name,documents,nest_discussion,nest_qualitative,nest_controls,nest_risk) %>%\n",
        "    group_by(period_date) %>%\n",
        "    arrange(desc(period_date))\n",
        "  \n",
        "  #jenky - find a rowwise application\n",
        "  a <- df_data %>% \n",
        "    select(period_date,filing_date,type,form_name,documents,nest_discussion) %>%\n",
        "    unnest(nest_discussion)\n",
        "  b <- df_data %>% \n",
        "    select(period_date,filing_date,type,form_name,documents,nest_qualitative) %>%\n",
        "    unnest(nest_qualitative)\n",
        "  c <- df_data %>% \n",
        "    select(period_date,filing_date,type,form_name,documents,nest_controls) %>%\n",
        "    unnest(nest_controls)\n",
        "  d <- df_data %>% \n",
        "    select(period_date,filing_date,type,form_name,documents,nest_risk) %>%\n",
        "    unnest(nest_risk)\n",
        "  \n",
        "  ss <- gs4_create(str_write_name)\n",
        "  \n",
        "  df_data <- rbind(a,b,c,d) %>%\n",
        "    googlesheets4::sheet_write(ss, sheet = \"sec_data\")\n",
        "  \n",
        "  end_time <- Sys.time()\n",
        "  print(end_time - start_time)\n",
        "  return(df_data)\n",
        "}\n",
        "\n",
        "#long run.\n",
        "df_data <- map_df(df_tickers$Symbol, get_document_text)\n",
        "\n",
        "\n",
        "\n"
      ],
      "execution_count": 15,
      "outputs": [
        {
          "output_type": "stream",
          "text": [
            "[1] \"GOOG\"\n"
          ],
          "name": "stdout"
        },
        {
          "output_type": "stream",
          "text": [
            "R[write to console]: Error in xml2::url_absolute(res[[ref]], xml2::xml_url(doc)) : \n",
            "  Base URL must be length 1\n",
            "Calls: <Anonymous> ... company_filings -> map_xml -> ifelse -> <Anonymous>\n",
            "\n"
          ],
          "name": "stderr"
        },
        {
          "output_type": "stream",
          "text": [
            "\n",
            "Error in xml2::url_absolute(res[[ref]], xml2::xml_url(doc)) : \n",
            "  Base URL must be length 1\n",
            "Calls: <Anonymous> ... company_filings -> map_xml -> ifelse -> <Anonymous>\n"
          ],
          "name": "stdout"
        }
      ]
    }
  ]
}