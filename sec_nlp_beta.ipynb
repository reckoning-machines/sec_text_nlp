{
  "nbformat": 4,
  "nbformat_minor": 0,
  "metadata": {
    "colab": {
      "name": "sec_nlp_beta.ipynb",
      "provenance": [],
      "authorship_tag": "ABX9TyNBs2tnRZ/T0AOebPxgW5Xf",
      "include_colab_link": true
    },
    "kernelspec": {
      "name": "python3",
      "display_name": "Python 3"
    }
  },
  "cells": [
    {
      "cell_type": "markdown",
      "metadata": {
        "id": "view-in-github",
        "colab_type": "text"
      },
      "source": [
        "<a href=\"https://colab.research.google.com/github/reckoning-machines/sec_text_nlp/blob/master/sec_nlp_beta.ipynb\" target=\"_parent\"><img src=\"https://colab.research.google.com/assets/colab-badge.svg\" alt=\"Open In Colab\"/></a>"
      ]
    },
    {
      "cell_type": "code",
      "metadata": {
        "id": "4PEGuwlTGxfi",
        "colab_type": "code",
        "colab": {}
      },
      "source": [
        "!mkdir sec_data_folder"
      ],
      "execution_count": 0,
      "outputs": []
    },
    {
      "cell_type": "code",
      "metadata": {
        "id": "CVX4_nlmIYmf",
        "colab_type": "code",
        "outputId": "a70e8c29-b18d-47e1-dbc1-82220e809320",
        "colab": {
          "base_uri": "https://localhost:8080/",
          "height": 85
        }
      },
      "source": [
        "!git clone https://gist.github.com/dc7e60aa487430ea704a8cb3f2c5d6a6.git /tmp/colab_util_repo\n",
        "!mv /tmp/colab_util_repo/colab_util.py colab_util.py \n",
        "!rm -r /tmp/colab_util_repo\n",
        "from colab_util import *\n",
        "drive_handler = GoogleDriveHandler()"
      ],
      "execution_count": 2,
      "outputs": [
        {
          "output_type": "stream",
          "text": [
            "Cloning into '/tmp/colab_util_repo'...\n",
            "remote: Enumerating objects: 40, done.\u001b[K\n",
            "remote: Total 40 (delta 0), reused 0 (delta 0), pack-reused 40\u001b[K\n",
            "Unpacking objects: 100% (40/40), done.\n"
          ],
          "name": "stdout"
        }
      ]
    },
    {
      "cell_type": "code",
      "metadata": {
        "id": "dOOMZczJm3Hd",
        "colab_type": "code",
        "colab": {}
      },
      "source": [
        "drive_handler.download('test_ticker_list.csv', target_path='test_ticker_list.csv')"
      ],
      "execution_count": 0,
      "outputs": []
    },
    {
      "cell_type": "code",
      "metadata": {
        "id": "Aa70Oj6pnJsg",
        "colab_type": "code",
        "colab": {
          "base_uri": "https://localhost:8080/",
          "height": 391
        },
        "outputId": "94607a89-076a-4f62-a50b-05c5acc8563b"
      },
      "source": [
        "import pandas as pd\n",
        "df_tickers = pd.read_csv('test_ticker_list.csv')\n",
        "\n",
        "for i, row in df_tickers.iterrows():\n",
        "  str_ticker = row['Symbol']\n",
        "  \n",
        "  print('working for:'+str_ticker+\"...\")\n",
        "\n",
        "  str_to_file = 'sec_data_folder/'+str_ticker+'.csv'\n",
        "  str_from_file = '/sec_data_folder/'+str_ticker+'.csv'\n",
        "  drive_handler.download(str_to_file, target_path=str_from_file)\n"
      ],
      "execution_count": 7,
      "outputs": [
        {
          "output_type": "stream",
          "text": [
            "working for:GOOG...\n",
            "working for:FB...\n",
            "working for:AMZN...\n",
            "working for:HD...\n",
            "working for:WMT...\n",
            "working for:PG...\n",
            "working for:XOM...\n",
            "working for:CVX...\n",
            "working for:JPM...\n",
            "working for:BAC...\n",
            "working for:JNJ...\n",
            "working for:UNH...\n",
            "working for:LMT...\n",
            "working for:UNP...\n",
            "working for:MSFT...\n",
            "working for:AAPL...\n",
            "working for:LIN...\n",
            "working for:ECL...\n",
            "working for:AMT...\n",
            "working for:CCI...\n",
            "working for:NEE...\n",
            "working for:D...\n"
          ],
          "name": "stdout"
        }
      ]
    }
  ]
}