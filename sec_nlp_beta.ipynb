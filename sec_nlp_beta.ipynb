{
  "nbformat": 4,
  "nbformat_minor": 0,
  "metadata": {
    "colab": {
      "name": "sec_nlp_beta.ipynb",
      "provenance": [],
      "authorship_tag": "ABX9TyNybtDMG8m8W/fVw8lMqEIJ",
      "include_colab_link": true
    },
    "kernelspec": {
      "name": "python3",
      "display_name": "Python 3"
    }
  },
  "cells": [
    {
      "cell_type": "markdown",
      "metadata": {
        "id": "view-in-github",
        "colab_type": "text"
      },
      "source": [
        "<a href=\"https://colab.research.google.com/github/reckoning-machines/sec_text_nlp/blob/master/sec_nlp_beta.ipynb\" target=\"_parent\"><img src=\"https://colab.research.google.com/assets/colab-badge.svg\" alt=\"Open In Colab\"/></a>"
      ]
    },
    {
      "cell_type": "code",
      "metadata": {
        "id": "4PEGuwlTGxfi",
        "colab_type": "code",
        "colab": {}
      },
      "source": [
        "#https://gist.github.com/Joshua1989/dc7e60aa487430ea704a8cb3f2c5d6a6\n",
        "\n",
        "# we need to reinitialize local folders and data.\n",
        "\n",
        "!mkdir sec_data_folder"
      ],
      "execution_count": 0,
      "outputs": []
    },
    {
      "cell_type": "code",
      "metadata": {
        "id": "CVX4_nlmIYmf",
        "colab_type": "code",
        "outputId": "328bcec0-6422-4fda-df9c-184af912d327",
        "colab": {
          "base_uri": "https://localhost:8080/",
          "height": 85
        }
      },
      "source": [
        "!git clone https://gist.github.com/dc7e60aa487430ea704a8cb3f2c5d6a6.git /tmp/colab_util_repo\n",
        "!mv /tmp/colab_util_repo/colab_util.py colab_util.py \n",
        "!rm -r /tmp/colab_util_repo\n",
        "from colab_util import *\n",
        "drive_handler = GoogleDriveHandler()"
      ],
      "execution_count": 2,
      "outputs": [
        {
          "output_type": "stream",
          "text": [
            "Cloning into '/tmp/colab_util_repo'...\n",
            "remote: Enumerating objects: 40, done.\u001b[K\n",
            "remote: Total 40 (delta 0), reused 0 (delta 0), pack-reused 40\u001b[K\n",
            "Unpacking objects: 100% (40/40), done.\n"
          ],
          "name": "stdout"
        }
      ]
    },
    {
      "cell_type": "code",
      "metadata": {
        "id": "dOOMZczJm3Hd",
        "colab_type": "code",
        "colab": {}
      },
      "source": [
        "drive_handler.download('test_ticker_list.csv', target_path='test_ticker_list.csv')"
      ],
      "execution_count": 0,
      "outputs": []
    },
    {
      "cell_type": "code",
      "metadata": {
        "id": "Aa70Oj6pnJsg",
        "colab_type": "code",
        "outputId": "98f6402c-ab9d-4222-a0fb-2a0586331e22",
        "colab": {
          "base_uri": "https://localhost:8080/",
          "height": 391
        }
      },
      "source": [
        "import pandas as pd\n",
        "df_tickers = pd.read_csv('test_ticker_list.csv')\n",
        "\n",
        "for i, row in df_tickers.iterrows():\n",
        "  str_ticker = row['Symbol']\n",
        "  \n",
        "  print('working for:'+str_ticker+\"...\")\n",
        "\n",
        "  str_to_file = 'sec_data_folder/'+str_ticker+'.csv'\n",
        "  str_from_file = '/sec_data_folder/'+str_ticker+'.csv'\n",
        "  drive_handler.download(str_to_file, target_path=str_from_file)"
      ],
      "execution_count": 4,
      "outputs": [
        {
          "output_type": "stream",
          "text": [
            "working for:GOOG...\n",
            "working for:FB...\n",
            "working for:AMZN...\n",
            "working for:HD...\n",
            "working for:WMT...\n",
            "working for:PG...\n",
            "working for:XOM...\n",
            "working for:CVX...\n",
            "working for:JPM...\n",
            "working for:BAC...\n",
            "working for:JNJ...\n",
            "working for:UNH...\n",
            "working for:LMT...\n",
            "working for:UNP...\n",
            "working for:MSFT...\n",
            "working for:AAPL...\n",
            "working for:LIN...\n",
            "working for:ECL...\n",
            "working for:AMT...\n",
            "working for:CCI...\n",
            "working for:NEE...\n",
            "working for:D...\n"
          ],
          "name": "stdout"
        }
      ]
    },
    {
      "cell_type": "code",
      "metadata": {
        "id": "LiOQAktZoTpc",
        "colab_type": "code",
        "outputId": "6b5da8ee-fa4e-4cc8-ea97-0c0a5dbfba26",
        "colab": {
          "base_uri": "https://localhost:8080/",
          "height": 156
        }
      },
      "source": [
        "\n",
        "#import academic standard NLP library nltk.  this will be our baseline.\n",
        "import nltk\n",
        "nltk.download('punkt')\n",
        "nltk.download('vader_lexicon')\n",
        "nltk.download('stopwords')\n",
        "\n",
        "import pandas as pd\n",
        "\n",
        "from nltk.corpus import stopwords\n",
        "from nltk.tokenize import word_tokenize \n",
        "from nltk.sentiment.vader import SentimentIntensityAnalyzer\n",
        "from nltk import tokenize\n",
        "\n",
        "#replace with your own list of words ... like covid or delay or cancel (it lowercases automatically)\n",
        "FIND_WORDS = ['covid',\n",
        "              'guidance',\n",
        "              'outlook']\n",
        "\n",
        "def check_if_list_found_in_text(text, words=[], return_offset=False, lower_text=True):\n",
        "    result = []\n",
        "    text = (\n",
        "        \" \"\n",
        "        + text.replace(\"_\", \" \")\n",
        "        .replace(\"-\", \" \")\n",
        "        .replace(\",\", \" \")\n",
        "        .replace(\";\", \" \")\n",
        "        .replace('\"', \" \")\n",
        "        .replace(\":\", \" \")\n",
        "        .replace(\".\", \" \")\n",
        "        + \" \"\n",
        "    )\n",
        "    if lower_text:\n",
        "        text = text.lower()\n",
        "    for word in words:\n",
        "        word = (\n",
        "            \" \"\n",
        "            + word.replace(\"_\", \" \")\n",
        "            .replace(\"-\", \" \")\n",
        "            .replace(\",\", \" \")\n",
        "            .replace(\";\", \" \")\n",
        "            .replace('\"', \" \")\n",
        "            .replace(\":\", \" \")\n",
        "            .replace(\".\", \" \")\n",
        "            + \" \"\n",
        "        )\n",
        "        if lower_text:\n",
        "            word = word.lower()\n",
        "        if word in text:\n",
        "            if return_offset:\n",
        "                offset = text.find(word)\n",
        "                # offset = offset if not offset else offset-1\n",
        "                result.append(offset)\n",
        "            else:\n",
        "                result.append(word.strip())\n",
        "    return result\n",
        "\n",
        "def filter_stopwords(sent):\n",
        "    stop_words = set(stopwords.words('english'))   \n",
        "    word_tokens = word_tokenize(sent)   \n",
        "    filtered_sentence = [w for w in word_tokens if not w in stop_words] \n",
        "    filtered_sentence = [] \n",
        "    for w in word_tokens: \n",
        "        if w not in stop_words: \n",
        "            filtered_sentence.append(w)\n",
        "    return ' '.join(filtered_sentence)\n",
        "\n",
        "def df_from_text(text):\n",
        "    sentence_list = tokenize.sent_tokenize(text)\n",
        "    sentence_list\n",
        "    sid = SentimentIntensityAnalyzer()\n",
        "    list_df = []\n",
        "    for sentence in sentence_list:\n",
        "        sentence = filter_stopwords(sentence)\n",
        "        list_found = check_if_list_found_in_text(sentence,FIND_WORDS)\n",
        "        num_found = len(list_found)\n",
        "        ss = sid.polarity_scores(sentence)\n",
        "        df = pd.DataFrame.from_dict(ss,orient = \"index\").T\n",
        "        df['text'] = sentence\n",
        "        df['keywords_found'] = num_found \n",
        "        list_df.append(df)\n",
        "    return pd.concat(list_df)\n",
        "\n"
      ],
      "execution_count": 5,
      "outputs": [
        {
          "output_type": "stream",
          "text": [
            "[nltk_data] Downloading package punkt to /root/nltk_data...\n",
            "[nltk_data]   Unzipping tokenizers/punkt.zip.\n",
            "[nltk_data] Downloading package vader_lexicon to /root/nltk_data...\n",
            "[nltk_data] Downloading package stopwords to /root/nltk_data...\n",
            "[nltk_data]   Unzipping corpora/stopwords.zip.\n"
          ],
          "name": "stdout"
        },
        {
          "output_type": "stream",
          "text": [
            "/usr/local/lib/python3.6/dist-packages/nltk/twitter/__init__.py:20: UserWarning: The twython library has not been installed. Some functionality from the twitter package will not be available.\n",
            "  warnings.warn(\"The twython library has not been installed. \"\n"
          ],
          "name": "stderr"
        }
      ]
    },
    {
      "cell_type": "code",
      "metadata": {
        "id": "V7hnR4wpgnCn",
        "colab_type": "code",
        "outputId": "f3a7de8d-97ab-426f-9c63-c905772c9238",
        "colab": {
          "base_uri": "https://localhost:8080/",
          "height": 391
        }
      },
      "source": [
        "#read and process data into a single dataset.  add ticker along the way.\n",
        "master_list_df = []\n",
        "list_tickers = df_tickers['Symbol']\n",
        "for ticker in list_tickers:\n",
        "  \n",
        "  df_text = pd.read_csv(\"sec_data_folder/\"+ticker+\".csv\") \n",
        "  df_text['ticker'] = ticker\n",
        "  \n",
        "  print(\"working on...\"+ticker)\n",
        "  \n",
        "  df_discussion = df_text[df_text['section']=='discussion']\n",
        "\n",
        "  list_df = []\n",
        "  for i,row in df_discussion.iterrows(): #this is greedy and should be vectorized with apply once debugged\n",
        "    df = df_from_text(row['text']) \n",
        "    df['id'] = i \n",
        "    df['period_date'] = row['period_date']\n",
        "    df['type'] = row['type']\n",
        "    df['section'] = row['section']\n",
        "    list_df.append(df)\n",
        "  \n",
        "  df_sentence_text_scores = pd.concat(list_df)\n",
        "  df_sentence_text_scores = df_sentence_text_scores.groupby(['period_date','type']).sum().reset_index()\n",
        "  df_sentence_text_scores['ticker'] = ticker\n",
        "  df_sentence_text_scores.drop(['id','keywords_found'],axis = 1)\n",
        "  \n",
        "  #scaled scores and differences\n",
        "  df_sentence_text_scores['compound_baseline'] = df_sentence_text_scores['compound'] / df_sentence_text_scores['compound'].mean()\n",
        "  df_sentence_text_scores['neg_baseline'] = df_sentence_text_scores['neg'] / df_sentence_text_scores['neg'].mean()\n",
        "  df_sentence_text_scores['pos_baseline'] = df_sentence_text_scores['pos'] / df_sentence_text_scores['pos'].mean()\n",
        "  df_sentence_text_scores['compound_bdiff'] = df_sentence_text_scores['compound_baseline'].diff() \n",
        "  df_sentence_text_scores['neg_bdiff'] = df_sentence_text_scores['neg_baseline'].diff() \n",
        "  df_sentence_text_scores['pos_bdiff'] = df_sentence_text_scores['pos_baseline'].diff() \n",
        "  df_sentence_text_scores['compound_zscore'] = (df_sentence_text_scores['compound'] - df_sentence_text_scores['compound'].mean())/df['compound'].std(ddof=0)\n",
        "\n",
        "  master_list_df.append(df_sentence_text_scores)\n",
        "\n",
        "df_data = pd.concat(master_list_df)\n"
      ],
      "execution_count": 6,
      "outputs": [
        {
          "output_type": "stream",
          "text": [
            "working on...GOOG\n",
            "working on...FB\n",
            "working on...AMZN\n",
            "working on...HD\n",
            "working on...WMT\n",
            "working on...PG\n",
            "working on...XOM\n",
            "working on...CVX\n",
            "working on...JPM\n",
            "working on...BAC\n",
            "working on...JNJ\n",
            "working on...UNH\n",
            "working on...LMT\n",
            "working on...UNP\n",
            "working on...MSFT\n",
            "working on...AAPL\n",
            "working on...LIN\n",
            "working on...ECL\n",
            "working on...AMT\n",
            "working on...CCI\n",
            "working on...NEE\n",
            "working on...D\n"
          ],
          "name": "stdout"
        }
      ]
    },
    {
      "cell_type": "code",
      "metadata": {
        "id": "_6BA5jNLpuMd",
        "colab_type": "code",
        "outputId": "dd271f62-1675-4018-9a18-278f5f3dc62d",
        "colab": {
          "base_uri": "https://localhost:8080/",
          "height": 34
        }
      },
      "source": [
        "df_data.to_csv(\"df_data.csv\")\n",
        "drive_handler.upload('df_data.csv', parent_path='sec_data_folder',overwrite=False)"
      ],
      "execution_count": 7,
      "outputs": [
        {
          "output_type": "execute_result",
          "data": {
            "text/plain": [
              "'1XbxYRptUss3xKnHmE4lIzXDiP3kHQC6f'"
            ]
          },
          "metadata": {
            "tags": []
          },
          "execution_count": 7
        }
      ]
    },
    {
      "cell_type": "code",
      "metadata": {
        "id": "b0BV6AdWLvLW",
        "colab_type": "code",
        "colab": {
          "base_uri": "https://localhost:8080/",
          "height": 394
        },
        "outputId": "43d4eda9-e899-451b-a206-1f3cb4e39170"
      },
      "source": [
        "df = df_data[['period_date','ticker','compound_baseline']]\n",
        "df['quarter_end'] = pd.to_datetime(df['period_date'])\n",
        "df['quarter_end'] = df['quarter_end'].dt.to_period('quarter_end').dt.end_time\n",
        "df['quarter_end'] = df['quarter_end'].dt.date\n",
        "import numpy as np\n",
        "df_data_pivot = pd.pivot_table(df, values='compound_baseline', index=['q'],\n",
        "                    columns=['ticker'], aggfunc=np.sum, fill_value=0).reset_index()\n",
        "\n",
        "df_data_pivot.to_csv(\"df_data_pivot.csv\")\n",
        "drive_handler.upload('df_data_pivot.csv', parent_path='sec_data_folder',overwrite=False)"
      ],
      "execution_count": 26,
      "outputs": [
        {
          "output_type": "stream",
          "text": [
            "/usr/local/lib/python3.6/dist-packages/ipykernel_launcher.py:2: SettingWithCopyWarning: \n",
            "A value is trying to be set on a copy of a slice from a DataFrame.\n",
            "Try using .loc[row_indexer,col_indexer] = value instead\n",
            "\n",
            "See the caveats in the documentation: https://pandas.pydata.org/pandas-docs/stable/user_guide/indexing.html#returning-a-view-versus-a-copy\n",
            "  \n",
            "/usr/local/lib/python3.6/dist-packages/pandas/core/arrays/datetimes.py:1104: UserWarning: Converting to PeriodArray/Index representation will drop timezone information.\n",
            "  UserWarning,\n",
            "/usr/local/lib/python3.6/dist-packages/ipykernel_launcher.py:3: SettingWithCopyWarning: \n",
            "A value is trying to be set on a copy of a slice from a DataFrame.\n",
            "Try using .loc[row_indexer,col_indexer] = value instead\n",
            "\n",
            "See the caveats in the documentation: https://pandas.pydata.org/pandas-docs/stable/user_guide/indexing.html#returning-a-view-versus-a-copy\n",
            "  This is separate from the ipykernel package so we can avoid doing imports until\n",
            "/usr/local/lib/python3.6/dist-packages/ipykernel_launcher.py:4: SettingWithCopyWarning: \n",
            "A value is trying to be set on a copy of a slice from a DataFrame.\n",
            "Try using .loc[row_indexer,col_indexer] = value instead\n",
            "\n",
            "See the caveats in the documentation: https://pandas.pydata.org/pandas-docs/stable/user_guide/indexing.html#returning-a-view-versus-a-copy\n",
            "  after removing the cwd from sys.path.\n"
          ],
          "name": "stderr"
        },
        {
          "output_type": "execute_result",
          "data": {
            "text/plain": [
              "'1D5G9C1Cxhxk_4nnpRbxKc6vMEcJuAfeO'"
            ]
          },
          "metadata": {
            "tags": []
          },
          "execution_count": 26
        }
      ]
    },
    {
      "cell_type": "code",
      "metadata": {
        "id": "YaJBv_zQqIOZ",
        "colab_type": "code",
        "outputId": "0825bb21-5fee-4562-df1b-22c383c59254",
        "colab": {
          "base_uri": "https://localhost:8080/",
          "height": 357
        }
      },
      "source": [
        "df_data.head(6)"
      ],
      "execution_count": 8,
      "outputs": [
        {
          "output_type": "execute_result",
          "data": {
            "text/html": [
              "<div>\n",
              "<style scoped>\n",
              "    .dataframe tbody tr th:only-of-type {\n",
              "        vertical-align: middle;\n",
              "    }\n",
              "\n",
              "    .dataframe tbody tr th {\n",
              "        vertical-align: top;\n",
              "    }\n",
              "\n",
              "    .dataframe thead th {\n",
              "        text-align: right;\n",
              "    }\n",
              "</style>\n",
              "<table border=\"1\" class=\"dataframe\">\n",
              "  <thead>\n",
              "    <tr style=\"text-align: right;\">\n",
              "      <th></th>\n",
              "      <th>period_date</th>\n",
              "      <th>type</th>\n",
              "      <th>neg</th>\n",
              "      <th>neu</th>\n",
              "      <th>pos</th>\n",
              "      <th>compound</th>\n",
              "      <th>keywords_found</th>\n",
              "      <th>id</th>\n",
              "      <th>ticker</th>\n",
              "      <th>compound_baseline</th>\n",
              "      <th>neg_baseline</th>\n",
              "      <th>pos_baseline</th>\n",
              "      <th>compound_bdiff</th>\n",
              "      <th>neg_bdiff</th>\n",
              "      <th>pos_bdiff</th>\n",
              "      <th>compound_zscore</th>\n",
              "    </tr>\n",
              "  </thead>\n",
              "  <tbody>\n",
              "    <tr>\n",
              "      <th>0</th>\n",
              "      <td>2018-12-31T00:00:00Z</td>\n",
              "      <td>10-K</td>\n",
              "      <td>11.700</td>\n",
              "      <td>368.919</td>\n",
              "      <td>51.383</td>\n",
              "      <td>90.1384</td>\n",
              "      <td>0</td>\n",
              "      <td>563064</td>\n",
              "      <td>GOOG</td>\n",
              "      <td>1.245985</td>\n",
              "      <td>1.638962</td>\n",
              "      <td>1.384470</td>\n",
              "      <td>NaN</td>\n",
              "      <td>NaN</td>\n",
              "      <td>NaN</td>\n",
              "      <td>99.164243</td>\n",
              "    </tr>\n",
              "    <tr>\n",
              "      <th>1</th>\n",
              "      <td>2019-03-31T00:00:00Z</td>\n",
              "      <td>10-Q</td>\n",
              "      <td>4.263</td>\n",
              "      <td>247.329</td>\n",
              "      <td>27.409</td>\n",
              "      <td>58.0661</td>\n",
              "      <td>0</td>\n",
              "      <td>296014</td>\n",
              "      <td>GOOG</td>\n",
              "      <td>0.802649</td>\n",
              "      <td>0.597170</td>\n",
              "      <td>0.738512</td>\n",
              "      <td>-0.443336</td>\n",
              "      <td>-1.041791</td>\n",
              "      <td>-0.645959</td>\n",
              "      <td>-79.558362</td>\n",
              "    </tr>\n",
              "    <tr>\n",
              "      <th>2</th>\n",
              "      <td>2019-06-30T00:00:00Z</td>\n",
              "      <td>10-Q</td>\n",
              "      <td>4.271</td>\n",
              "      <td>262.147</td>\n",
              "      <td>31.584</td>\n",
              "      <td>68.9674</td>\n",
              "      <td>0</td>\n",
              "      <td>252767</td>\n",
              "      <td>GOOG</td>\n",
              "      <td>0.953338</td>\n",
              "      <td>0.598291</td>\n",
              "      <td>0.851003</td>\n",
              "      <td>0.150689</td>\n",
              "      <td>0.001121</td>\n",
              "      <td>0.112492</td>\n",
              "      <td>-18.810965</td>\n",
              "    </tr>\n",
              "    <tr>\n",
              "      <th>3</th>\n",
              "      <td>2019-09-30T00:00:00Z</td>\n",
              "      <td>10-Q</td>\n",
              "      <td>4.629</td>\n",
              "      <td>263.763</td>\n",
              "      <td>30.610</td>\n",
              "      <td>67.5397</td>\n",
              "      <td>0</td>\n",
              "      <td>188918</td>\n",
              "      <td>GOOG</td>\n",
              "      <td>0.933603</td>\n",
              "      <td>0.648440</td>\n",
              "      <td>0.824760</td>\n",
              "      <td>-0.019735</td>\n",
              "      <td>0.050149</td>\n",
              "      <td>-0.026244</td>\n",
              "      <td>-26.766811</td>\n",
              "    </tr>\n",
              "    <tr>\n",
              "      <th>4</th>\n",
              "      <td>2019-12-31T00:00:00Z</td>\n",
              "      <td>10-K</td>\n",
              "      <td>12.058</td>\n",
              "      <td>374.402</td>\n",
              "      <td>52.545</td>\n",
              "      <td>87.2673</td>\n",
              "      <td>0</td>\n",
              "      <td>167825</td>\n",
              "      <td>GOOG</td>\n",
              "      <td>1.206298</td>\n",
              "      <td>1.689111</td>\n",
              "      <td>1.415779</td>\n",
              "      <td>0.272695</td>\n",
              "      <td>1.040671</td>\n",
              "      <td>0.591020</td>\n",
              "      <td>83.165064</td>\n",
              "    </tr>\n",
              "    <tr>\n",
              "      <th>5</th>\n",
              "      <td>2020-03-31T00:00:00Z</td>\n",
              "      <td>10-Q</td>\n",
              "      <td>5.911</td>\n",
              "      <td>297.938</td>\n",
              "      <td>29.152</td>\n",
              "      <td>62.0796</td>\n",
              "      <td>19</td>\n",
              "      <td>40131</td>\n",
              "      <td>GOOG</td>\n",
              "      <td>0.858128</td>\n",
              "      <td>0.828026</td>\n",
              "      <td>0.785475</td>\n",
              "      <td>-0.348170</td>\n",
              "      <td>-0.861085</td>\n",
              "      <td>-0.630304</td>\n",
              "      <td>-57.193169</td>\n",
              "    </tr>\n",
              "  </tbody>\n",
              "</table>\n",
              "</div>"
            ],
            "text/plain": [
              "            period_date  type     neg  ...  neg_bdiff  pos_bdiff  compound_zscore\n",
              "0  2018-12-31T00:00:00Z  10-K  11.700  ...        NaN        NaN        99.164243\n",
              "1  2019-03-31T00:00:00Z  10-Q   4.263  ...  -1.041791  -0.645959       -79.558362\n",
              "2  2019-06-30T00:00:00Z  10-Q   4.271  ...   0.001121   0.112492       -18.810965\n",
              "3  2019-09-30T00:00:00Z  10-Q   4.629  ...   0.050149  -0.026244       -26.766811\n",
              "4  2019-12-31T00:00:00Z  10-K  12.058  ...   1.040671   0.591020        83.165064\n",
              "5  2020-03-31T00:00:00Z  10-Q   5.911  ...  -0.861085  -0.630304       -57.193169\n",
              "\n",
              "[6 rows x 16 columns]"
            ]
          },
          "metadata": {
            "tags": []
          },
          "execution_count": 8
        }
      ]
    },
    {
      "cell_type": "code",
      "metadata": {
        "id": "iglZK8JksgEH",
        "colab_type": "code",
        "outputId": "9eb7439b-d749-47ff-e0d8-6c6ac0e0c904",
        "colab": {
          "base_uri": "https://localhost:8080/",
          "height": 585
        }
      },
      "source": [
        "df_grouped = df_data[df_data['ticker'] == 'GOOG']\n",
        "df_grouped['period_date'] = pd.to_datetime(df_grouped['period_date'])\n",
        "df_grouped['period_date'] = df_grouped['period_date'].dt.strftime('%m/%d/%Y')\n",
        "df_grouped.plot(x='period_date',y='compound_baseline',kind = 'bar',title = 'GOOG Baseline MD&A Sentiment NLTK')\n",
        "\n",
        "#to do:\n",
        "#debug why 6 periods\n",
        "#delta baseline vs following 5 day alpha in stock\n",
        "#ARIMA model fit (or sum of squares for easy explanation).\n",
        "#the NLTK implementation is the base standard of comparison\n",
        "\n",
        "#pytorch transformers sentiment analysis - language model\n",
        "#as above, delta baseline vs alpha\n",
        "#compare w NLTK ARIMA/linear regression fit.\n"
      ],
      "execution_count": 9,
      "outputs": [
        {
          "output_type": "stream",
          "text": [
            "/usr/local/lib/python3.6/dist-packages/ipykernel_launcher.py:2: SettingWithCopyWarning: \n",
            "A value is trying to be set on a copy of a slice from a DataFrame.\n",
            "Try using .loc[row_indexer,col_indexer] = value instead\n",
            "\n",
            "See the caveats in the documentation: https://pandas.pydata.org/pandas-docs/stable/user_guide/indexing.html#returning-a-view-versus-a-copy\n",
            "  \n",
            "/usr/local/lib/python3.6/dist-packages/ipykernel_launcher.py:3: SettingWithCopyWarning: \n",
            "A value is trying to be set on a copy of a slice from a DataFrame.\n",
            "Try using .loc[row_indexer,col_indexer] = value instead\n",
            "\n",
            "See the caveats in the documentation: https://pandas.pydata.org/pandas-docs/stable/user_guide/indexing.html#returning-a-view-versus-a-copy\n",
            "  This is separate from the ipykernel package so we can avoid doing imports until\n"
          ],
          "name": "stderr"
        },
        {
          "output_type": "execute_result",
          "data": {
            "text/plain": [
              "<matplotlib.axes._subplots.AxesSubplot at 0x7f6386022f98>"
            ]
          },
          "metadata": {
            "tags": []
          },
          "execution_count": 9
        },
        {
          "output_type": "display_data",
          "data": {
            "image/png": "[encoded data removed]",
            "text/plain": [
              "<Figure size 432x288 with 1 Axes>"
            ]
          },
          "metadata": {
            "tags": [],
            "needs_background": "light"
          }
        }
      ]
    }
  ]
}