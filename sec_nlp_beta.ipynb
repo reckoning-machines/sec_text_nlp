{
  "nbformat": 4,
  "nbformat_minor": 0,
  "metadata": {
    "colab": {
      "name": "sec_nlp_beta.ipynb",
      "provenance": [],
      "authorship_tag": "ABX9TyP/YWmdp0HtEdhy3n7rvQjj",
      "include_colab_link": true
    },
    "kernelspec": {
      "name": "python3",
      "display_name": "Python 3"
    }
  },
  "cells": [
    {
      "cell_type": "markdown",
      "metadata": {
        "id": "view-in-github",
        "colab_type": "text"
      },
      "source": [
        "<a href=\"https://colab.research.google.com/github/reckoning-machines/sec_text_nlp/blob/master/sec_nlp_beta.ipynb\" target=\"_parent\"><img src=\"https://colab.research.google.com/assets/colab-badge.svg\" alt=\"Open In Colab\"/></a>"
      ]
    },
    {
      "cell_type": "code",
      "metadata": {
        "id": "4PEGuwlTGxfi",
        "colab_type": "code",
        "colab": {}
      },
      "source": [
        "#https://gist.github.com/Joshua1989/dc7e60aa487430ea704a8cb3f2c5d6a6\n",
        "\n",
        "# we need to reinitialize local folders and data.\n",
        "\n",
        "!mkdir sec_data_folder"
      ],
      "execution_count": 0,
      "outputs": []
    },
    {
      "cell_type": "code",
      "metadata": {
        "id": "CVX4_nlmIYmf",
        "colab_type": "code",
        "outputId": "e6134ece-f636-4082-8689-db00c262873e",
        "colab": {
          "base_uri": "https://localhost:8080/",
          "height": 85
        }
      },
      "source": [
        "!git clone https://gist.github.com/dc7e60aa487430ea704a8cb3f2c5d6a6.git /tmp/colab_util_repo\n",
        "!mv /tmp/colab_util_repo/colab_util.py colab_util.py \n",
        "!rm -r /tmp/colab_util_repo\n",
        "from colab_util import *\n",
        "drive_handler = GoogleDriveHandler()"
      ],
      "execution_count": 0,
      "outputs": [
        {
          "output_type": "stream",
          "text": [
            "Cloning into '/tmp/colab_util_repo'...\n",
            "remote: Enumerating objects: 40, done.\u001b[K\n",
            "Unpacking objects: 100% (40/40), done.\n",
            "remote: Total 40 (delta 0), reused 0 (delta 0), pack-reused 40\u001b[K\n"
          ],
          "name": "stdout"
        }
      ]
    },
    {
      "cell_type": "code",
      "metadata": {
        "id": "dOOMZczJm3Hd",
        "colab_type": "code",
        "colab": {}
      },
      "source": [
        "drive_handler.download('test_ticker_list.csv', target_path='test_ticker_list.csv')"
      ],
      "execution_count": 0,
      "outputs": []
    },
    {
      "cell_type": "code",
      "metadata": {
        "id": "Aa70Oj6pnJsg",
        "colab_type": "code",
        "outputId": "b18cc4a3-a179-4df9-cbc5-6d70137f3944",
        "colab": {
          "base_uri": "https://localhost:8080/",
          "height": 391
        }
      },
      "source": [
        "import pandas as pd\n",
        "df_tickers = pd.read_csv('test_ticker_list.csv')\n",
        "\n",
        "for i, row in df_tickers.iterrows():\n",
        "  str_ticker = row['Symbol']\n",
        "  \n",
        "  print('working for:'+str_ticker+\"...\")\n",
        "\n",
        "  str_to_file = 'sec_data_folder/'+str_ticker+'.csv'\n",
        "  str_from_file = '/sec_data_folder/'+str_ticker+'.csv'\n",
        "  drive_handler.download(str_to_file, target_path=str_from_file)"
      ],
      "execution_count": 0,
      "outputs": [
        {
          "output_type": "stream",
          "text": [
            "working for:GOOG...\n",
            "working for:FB...\n",
            "working for:AMZN...\n",
            "working for:HD...\n",
            "working for:WMT...\n",
            "working for:PG...\n",
            "working for:XOM...\n",
            "working for:CVX...\n",
            "working for:JPM...\n",
            "working for:BAC...\n",
            "working for:JNJ...\n",
            "working for:UNH...\n",
            "working for:LMT...\n",
            "working for:UNP...\n",
            "working for:MSFT...\n",
            "working for:AAPL...\n",
            "working for:LIN...\n",
            "working for:ECL...\n",
            "working for:AMT...\n",
            "working for:CCI...\n",
            "working for:NEE...\n",
            "working for:D...\n"
          ],
          "name": "stdout"
        }
      ]
    },
    {
      "cell_type": "code",
      "metadata": {
        "id": "LiOQAktZoTpc",
        "colab_type": "code",
        "outputId": "8a344582-dcb3-4751-ec32-6f686ca3eb43",
        "colab": {
          "base_uri": "https://localhost:8080/",
          "height": 156
        }
      },
      "source": [
        "\n",
        "#import old school NLP library nltk.  this will be our baseline.\n",
        "import nltk\n",
        "nltk.download('punkt')\n",
        "nltk.download('vader_lexicon')\n",
        "nltk.download('stopwords')\n",
        "\n",
        "import pandas as pd\n",
        "\n",
        "from nltk.corpus import stopwords\n",
        "from nltk.tokenize import word_tokenize \n",
        "from nltk.sentiment.vader import SentimentIntensityAnalyzer\n",
        "from nltk import tokenize\n",
        "\n",
        "#replace with your own list of words ... like covid or delay or cancel (it lowercases automatically)\n",
        "FIND_WORDS = ['movie',\n",
        "              'acting',\n",
        "              'story']\n",
        "\n",
        "def check_if_list_found_in_text(text, words=[], return_offset=False, lower_text=True):\n",
        "    result = []\n",
        "    text = (\n",
        "        \" \"\n",
        "        + text.replace(\"_\", \" \")\n",
        "        .replace(\"-\", \" \")\n",
        "        .replace(\",\", \" \")\n",
        "        .replace(\";\", \" \")\n",
        "        .replace('\"', \" \")\n",
        "        .replace(\":\", \" \")\n",
        "        .replace(\".\", \" \")\n",
        "        + \" \"\n",
        "    )\n",
        "    if lower_text:\n",
        "        text = text.lower()\n",
        "    for word in words:\n",
        "        word = (\n",
        "            \" \"\n",
        "            + word.replace(\"_\", \" \")\n",
        "            .replace(\"-\", \" \")\n",
        "            .replace(\",\", \" \")\n",
        "            .replace(\";\", \" \")\n",
        "            .replace('\"', \" \")\n",
        "            .replace(\":\", \" \")\n",
        "            .replace(\".\", \" \")\n",
        "            + \" \"\n",
        "        )\n",
        "        if lower_text:\n",
        "            word = word.lower()\n",
        "        if word in text:\n",
        "            if return_offset:\n",
        "                offset = text.find(word)\n",
        "                # offset = offset if not offset else offset-1\n",
        "                result.append(offset)\n",
        "            else:\n",
        "                result.append(word.strip())\n",
        "    return result\n",
        "\n",
        "def filter_stopwords(sent):\n",
        "    stop_words = set(stopwords.words('english'))   \n",
        "    word_tokens = word_tokenize(sent)   \n",
        "    filtered_sentence = [w for w in word_tokens if not w in stop_words] \n",
        "    filtered_sentence = [] \n",
        "    for w in word_tokens: \n",
        "        if w not in stop_words: \n",
        "            filtered_sentence.append(w)\n",
        "    return ' '.join(filtered_sentence)\n",
        "\n",
        "def df_from_text(text):\n",
        "    sentence_list = tokenize.sent_tokenize(text)\n",
        "    sentence_list\n",
        "    sid = SentimentIntensityAnalyzer()\n",
        "    list_df = []\n",
        "    for sentence in sentence_list:\n",
        "        sentence = filter_stopwords(sentence)\n",
        "        list_found = check_if_list_found_in_text(sentence,FIND_WORDS)\n",
        "        num_found = len(list_found)\n",
        "        ss = sid.polarity_scores(sentence)\n",
        "        df = pd.DataFrame.from_dict(ss,orient = \"index\").T\n",
        "        df['text'] = sentence\n",
        "        df['keywords_found'] = num_found \n",
        "        list_df.append(df)\n",
        "    return pd.concat(list_df)\n",
        "\n"
      ],
      "execution_count": 0,
      "outputs": [
        {
          "output_type": "stream",
          "text": [
            "[nltk_data] Downloading package punkt to /root/nltk_data...\n",
            "[nltk_data]   Unzipping tokenizers/punkt.zip.\n",
            "[nltk_data] Downloading package vader_lexicon to /root/nltk_data...\n",
            "[nltk_data] Downloading package stopwords to /root/nltk_data...\n",
            "[nltk_data]   Unzipping corpora/stopwords.zip.\n"
          ],
          "name": "stdout"
        },
        {
          "output_type": "stream",
          "text": [
            "/usr/local/lib/python3.6/dist-packages/nltk/twitter/__init__.py:20: UserWarning: The twython library has not been installed. Some functionality from the twitter package will not be available.\n",
            "  warnings.warn(\"The twython library has not been installed. \"\n"
          ],
          "name": "stderr"
        }
      ]
    },
    {
      "cell_type": "code",
      "metadata": {
        "id": "V7hnR4wpgnCn",
        "colab_type": "code",
        "outputId": "5e13fc49-6e72-4916-fac9-645a565d0dc4",
        "colab": {
          "base_uri": "https://localhost:8080/",
          "height": 391
        }
      },
      "source": [
        "#read and process data into a single dataset.  add ticker along the way.\n",
        "master_list_df = []\n",
        "list_tickers = df_tickers['Symbol']\n",
        "for ticker in list_tickers:\n",
        "  df_text = pd.read_csv(\"sec_data_folder/\"+ticker+\".csv\") \n",
        "  df_text['ticker'] = ticker\n",
        "  \n",
        "  print(\"working on...\"+ticker)\n",
        "  \n",
        "  df_discussion = df_text[df_text['section']=='discussion']\n",
        "  list_df = []\n",
        "  for i,row in df_discussion.iterrows():\n",
        "    df = df_from_text(row['text']) \n",
        "    df['id'] = i \n",
        "    df['period_date'] = row['period_date']\n",
        "    df['type'] = row['type']\n",
        "    df['section'] = row['section']\n",
        "    list_df.append(df)\n",
        "  df_sentence_text_scores = pd.concat(list_df)\n",
        "  df_sentence_text_scores = df_sentence_text_scores.groupby(['period_date','type']).sum().reset_index()\n",
        "  df_sentence_text_scores['ticker'] = ticker\n",
        "  df_sentence_text_scores.drop(['id','keywords_found'],axis = 1)\n",
        "  master_list_df.append(df_sentence_text_scores)\n",
        "\n",
        "df_data = pd.concat(master_list_df)\n"
      ],
      "execution_count": 0,
      "outputs": [
        {
          "output_type": "stream",
          "text": [
            "working on...GOOG\n",
            "working on...FB\n",
            "working on...AMZN\n",
            "working on...HD\n",
            "working on...WMT\n",
            "working on...PG\n",
            "working on...XOM\n",
            "working on...CVX\n",
            "working on...JPM\n",
            "working on...BAC\n",
            "working on...JNJ\n",
            "working on...UNH\n",
            "working on...LMT\n",
            "working on...UNP\n",
            "working on...MSFT\n",
            "working on...AAPL\n",
            "working on...LIN\n",
            "working on...ECL\n",
            "working on...AMT\n",
            "working on...CCI\n",
            "working on...NEE\n",
            "working on...D\n"
          ],
          "name": "stdout"
        }
      ]
    },
    {
      "cell_type": "code",
      "metadata": {
        "id": "_6BA5jNLpuMd",
        "colab_type": "code",
        "outputId": "075a15cd-bb26-4df0-f02c-7a291950652b",
        "colab": {
          "base_uri": "https://localhost:8080/",
          "height": 34
        }
      },
      "source": [
        "df_data.to_csv(\"df_data.csv\")\n",
        "drive_handler.upload('df_data.csv', parent_path='sec_data_folder')"
      ],
      "execution_count": 0,
      "outputs": [
        {
          "output_type": "execute_result",
          "data": {
            "text/plain": [
              "'1832rGtbu7dnjBtGUD1Wlyl-UMafeGTMF'"
            ]
          },
          "metadata": {
            "tags": []
          },
          "execution_count": 14
        }
      ]
    },
    {
      "cell_type": "code",
      "metadata": {
        "id": "YaJBv_zQqIOZ",
        "colab_type": "code",
        "outputId": "af6269a0-ed58-45fb-8c3c-5120110d6e95",
        "colab": {
          "base_uri": "https://localhost:8080/",
          "height": 204
        }
      },
      "source": [
        "df_data.head()"
      ],
      "execution_count": 0,
      "outputs": [
        {
          "output_type": "execute_result",
          "data": {
            "text/html": [
              "<div>\n",
              "<style scoped>\n",
              "    .dataframe tbody tr th:only-of-type {\n",
              "        vertical-align: middle;\n",
              "    }\n",
              "\n",
              "    .dataframe tbody tr th {\n",
              "        vertical-align: top;\n",
              "    }\n",
              "\n",
              "    .dataframe thead th {\n",
              "        text-align: right;\n",
              "    }\n",
              "</style>\n",
              "<table border=\"1\" class=\"dataframe\">\n",
              "  <thead>\n",
              "    <tr style=\"text-align: right;\">\n",
              "      <th></th>\n",
              "      <th>period_date</th>\n",
              "      <th>type</th>\n",
              "      <th>neg</th>\n",
              "      <th>neu</th>\n",
              "      <th>pos</th>\n",
              "      <th>compound</th>\n",
              "      <th>keywords_found</th>\n",
              "      <th>id</th>\n",
              "      <th>ticker</th>\n",
              "    </tr>\n",
              "  </thead>\n",
              "  <tbody>\n",
              "    <tr>\n",
              "      <th>0</th>\n",
              "      <td>2018-12-31T00:00:00Z</td>\n",
              "      <td>10-K</td>\n",
              "      <td>11.700</td>\n",
              "      <td>368.919</td>\n",
              "      <td>51.383</td>\n",
              "      <td>90.1384</td>\n",
              "      <td>0</td>\n",
              "      <td>563064</td>\n",
              "      <td>GOOG</td>\n",
              "    </tr>\n",
              "    <tr>\n",
              "      <th>1</th>\n",
              "      <td>2019-03-31T00:00:00Z</td>\n",
              "      <td>10-Q</td>\n",
              "      <td>4.263</td>\n",
              "      <td>247.329</td>\n",
              "      <td>27.409</td>\n",
              "      <td>58.0661</td>\n",
              "      <td>0</td>\n",
              "      <td>296014</td>\n",
              "      <td>GOOG</td>\n",
              "    </tr>\n",
              "    <tr>\n",
              "      <th>2</th>\n",
              "      <td>2019-06-30T00:00:00Z</td>\n",
              "      <td>10-Q</td>\n",
              "      <td>4.271</td>\n",
              "      <td>262.147</td>\n",
              "      <td>31.584</td>\n",
              "      <td>68.9674</td>\n",
              "      <td>0</td>\n",
              "      <td>252767</td>\n",
              "      <td>GOOG</td>\n",
              "    </tr>\n",
              "    <tr>\n",
              "      <th>3</th>\n",
              "      <td>2019-09-30T00:00:00Z</td>\n",
              "      <td>10-Q</td>\n",
              "      <td>4.629</td>\n",
              "      <td>263.763</td>\n",
              "      <td>30.610</td>\n",
              "      <td>67.5397</td>\n",
              "      <td>0</td>\n",
              "      <td>188918</td>\n",
              "      <td>GOOG</td>\n",
              "    </tr>\n",
              "    <tr>\n",
              "      <th>4</th>\n",
              "      <td>2019-12-31T00:00:00Z</td>\n",
              "      <td>10-K</td>\n",
              "      <td>12.058</td>\n",
              "      <td>374.402</td>\n",
              "      <td>52.545</td>\n",
              "      <td>87.2673</td>\n",
              "      <td>0</td>\n",
              "      <td>167825</td>\n",
              "      <td>GOOG</td>\n",
              "    </tr>\n",
              "  </tbody>\n",
              "</table>\n",
              "</div>"
            ],
            "text/plain": [
              "            period_date  type     neg  ...  keywords_found      id  ticker\n",
              "0  2018-12-31T00:00:00Z  10-K  11.700  ...               0  563064    GOOG\n",
              "1  2019-03-31T00:00:00Z  10-Q   4.263  ...               0  296014    GOOG\n",
              "2  2019-06-30T00:00:00Z  10-Q   4.271  ...               0  252767    GOOG\n",
              "3  2019-09-30T00:00:00Z  10-Q   4.629  ...               0  188918    GOOG\n",
              "4  2019-12-31T00:00:00Z  10-K  12.058  ...               0  167825    GOOG\n",
              "\n",
              "[5 rows x 9 columns]"
            ]
          },
          "metadata": {
            "tags": []
          },
          "execution_count": 15
        }
      ]
    },
    {
      "cell_type": "code",
      "metadata": {
        "id": "iglZK8JksgEH",
        "colab_type": "code",
        "outputId": "8e8a6d2e-22a9-4ec5-d8d9-64b6f0034777",
        "colab": {
          "base_uri": "https://localhost:8080/",
          "height": 565
        }
      },
      "source": [
        "df_grouped = df_data[df_data['ticker'] == 'GOOG']\n",
        "df_grouped['period_date'] = pd.to_datetime(df_grouped['period_date'])\n",
        "df_grouped['period_date'] = df_grouped['period_date'].dt.strftime('%m/%d/%Y')\n",
        "df_grouped.plot(x='period_date',y='compound',kind = 'bar',title = 'WMT MD&A Sentiment NLTK')\n",
        "\n",
        "#to do:\n",
        "#debug why 6 periods\n",
        "#baseline vs average\n",
        "#delta baseline vs following 5 day alpha in stock\n",
        "#ARIMA model fit.\n",
        "#the NLTK implementation is baseline\n",
        "#pytorch transformers sentiment analysis - language model\n",
        "#as above, delta baseline vs alpha\n",
        "#comp w NLTK ARIMA fit.\n"
      ],
      "execution_count": 0,
      "outputs": [
        {
          "output_type": "stream",
          "text": [
            "/usr/local/lib/python3.6/dist-packages/ipykernel_launcher.py:2: SettingWithCopyWarning: \n",
            "A value is trying to be set on a copy of a slice from a DataFrame.\n",
            "Try using .loc[row_indexer,col_indexer] = value instead\n",
            "\n",
            "See the caveats in the documentation: https://pandas.pydata.org/pandas-docs/stable/user_guide/indexing.html#returning-a-view-versus-a-copy\n",
            "  \n",
            "/usr/local/lib/python3.6/dist-packages/ipykernel_launcher.py:3: SettingWithCopyWarning: \n",
            "A value is trying to be set on a copy of a slice from a DataFrame.\n",
            "Try using .loc[row_indexer,col_indexer] = value instead\n",
            "\n",
            "See the caveats in the documentation: https://pandas.pydata.org/pandas-docs/stable/user_guide/indexing.html#returning-a-view-versus-a-copy\n",
            "  This is separate from the ipykernel package so we can avoid doing imports until\n"
          ],
          "name": "stderr"
        },
        {
          "output_type": "execute_result",
          "data": {
            "text/plain": [
              "<matplotlib.axes._subplots.AxesSubplot at 0x7f1d4019e128>"
            ]
          },
          "metadata": {
            "tags": []
          },
          "execution_count": 16
        },
        {
          "output_type": "display_data",
          "data": {
            "image/png": "[encoded data removed]",
            "text/plain": [
              "<Figure size 432x288 with 1 Axes>"
            ]
          },
          "metadata": {
            "tags": [],
            "needs_background": "light"
          }
        }
      ]
    }
  ]
}